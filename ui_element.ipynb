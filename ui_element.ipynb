{
  "nbformat": 4,
  "nbformat_minor": 0,
  "metadata": {
    "colab": {
      "provenance": []
    },
    "kernelspec": {
      "name": "python3",
      "display_name": "Python 3"
    },
    "language_info": {
      "name": "python"
    }
  },
  "cells": [
    {
      "cell_type": "code",
      "source": [
        "!pip install roboflow"
      ],
      "metadata": {
        "colab": {
          "base_uri": "https://localhost:8080/",
          "height": 1000
        },
        "id": "D4kpE7BD_XzH",
        "outputId": "0c6bc887-1512-4b76-cd7a-461333e56c61"
      },
      "execution_count": 1,
      "outputs": [
        {
          "output_type": "stream",
          "name": "stdout",
          "text": [
            "Collecting roboflow\n",
            "  Downloading roboflow-1.1.14-py3-none-any.whl (68 kB)\n",
            "\u001b[2K     \u001b[90m━━━━━━━━━━━━━━━━━━━━━━━━━━━━━━━━━━━━━━━━\u001b[0m \u001b[32m69.0/69.0 kB\u001b[0m \u001b[31m1.5 MB/s\u001b[0m eta \u001b[36m0:00:00\u001b[0m\n",
            "\u001b[?25hCollecting certifi==2023.7.22 (from roboflow)\n",
            "  Downloading certifi-2023.7.22-py3-none-any.whl (158 kB)\n",
            "\u001b[2K     \u001b[90m━━━━━━━━━━━━━━━━━━━━━━━━━━━━━━━━━━━━━━━━\u001b[0m \u001b[32m158.3/158.3 kB\u001b[0m \u001b[31m6.8 MB/s\u001b[0m eta \u001b[36m0:00:00\u001b[0m\n",
            "\u001b[?25hCollecting chardet==4.0.0 (from roboflow)\n",
            "  Downloading chardet-4.0.0-py2.py3-none-any.whl (178 kB)\n",
            "\u001b[2K     \u001b[90m━━━━━━━━━━━━━━━━━━━━━━━━━━━━━━━━━━━━━━━━\u001b[0m \u001b[32m178.7/178.7 kB\u001b[0m \u001b[31m19.7 MB/s\u001b[0m eta \u001b[36m0:00:00\u001b[0m\n",
            "\u001b[?25hCollecting cycler==0.10.0 (from roboflow)\n",
            "  Downloading cycler-0.10.0-py2.py3-none-any.whl (6.5 kB)\n",
            "Collecting idna==2.10 (from roboflow)\n",
            "  Downloading idna-2.10-py2.py3-none-any.whl (58 kB)\n",
            "\u001b[2K     \u001b[90m━━━━━━━━━━━━━━━━━━━━━━━━━━━━━━━━━━━━━━━━\u001b[0m \u001b[32m58.8/58.8 kB\u001b[0m \u001b[31m8.0 MB/s\u001b[0m eta \u001b[36m0:00:00\u001b[0m\n",
            "\u001b[?25hRequirement already satisfied: kiwisolver>=1.3.1 in /usr/local/lib/python3.10/dist-packages (from roboflow) (1.4.5)\n",
            "Requirement already satisfied: matplotlib in /usr/local/lib/python3.10/dist-packages (from roboflow) (3.7.1)\n",
            "Requirement already satisfied: numpy>=1.18.5 in /usr/local/lib/python3.10/dist-packages (from roboflow) (1.23.5)\n",
            "Collecting opencv-python-headless==4.8.0.74 (from roboflow)\n",
            "  Downloading opencv_python_headless-4.8.0.74-cp37-abi3-manylinux_2_17_x86_64.manylinux2014_x86_64.whl (49.1 MB)\n",
            "\u001b[2K     \u001b[90m━━━━━━━━━━━━━━━━━━━━━━━━━━━━━━━━━━━━━━━━\u001b[0m \u001b[32m49.1/49.1 MB\u001b[0m \u001b[31m16.2 MB/s\u001b[0m eta \u001b[36m0:00:00\u001b[0m\n",
            "\u001b[?25hRequirement already satisfied: Pillow>=7.1.2 in /usr/local/lib/python3.10/dist-packages (from roboflow) (9.4.0)\n",
            "Collecting pyparsing==2.4.7 (from roboflow)\n",
            "  Downloading pyparsing-2.4.7-py2.py3-none-any.whl (67 kB)\n",
            "\u001b[2K     \u001b[90m━━━━━━━━━━━━━━━━━━━━━━━━━━━━━━━━━━━━━━━━\u001b[0m \u001b[32m67.8/67.8 kB\u001b[0m \u001b[31m9.3 MB/s\u001b[0m eta \u001b[36m0:00:00\u001b[0m\n",
            "\u001b[?25hRequirement already satisfied: python-dateutil in /usr/local/lib/python3.10/dist-packages (from roboflow) (2.8.2)\n",
            "Collecting python-dotenv (from roboflow)\n",
            "  Downloading python_dotenv-1.0.0-py3-none-any.whl (19 kB)\n",
            "Requirement already satisfied: requests in /usr/local/lib/python3.10/dist-packages (from roboflow) (2.31.0)\n",
            "Requirement already satisfied: six in /usr/local/lib/python3.10/dist-packages (from roboflow) (1.16.0)\n",
            "Collecting supervision (from roboflow)\n",
            "  Downloading supervision-0.17.1-py3-none-any.whl (77 kB)\n",
            "\u001b[2K     \u001b[90m━━━━━━━━━━━━━━━━━━━━━━━━━━━━━━━━━━━━━━━━\u001b[0m \u001b[32m77.5/77.5 kB\u001b[0m \u001b[31m10.7 MB/s\u001b[0m eta \u001b[36m0:00:00\u001b[0m\n",
            "\u001b[?25hRequirement already satisfied: urllib3>=1.26.6 in /usr/local/lib/python3.10/dist-packages (from roboflow) (2.0.7)\n",
            "Requirement already satisfied: tqdm>=4.41.0 in /usr/local/lib/python3.10/dist-packages (from roboflow) (4.66.1)\n",
            "Requirement already satisfied: PyYAML>=5.3.1 in /usr/local/lib/python3.10/dist-packages (from roboflow) (6.0.1)\n",
            "Collecting requests-toolbelt (from roboflow)\n",
            "  Downloading requests_toolbelt-1.0.0-py2.py3-none-any.whl (54 kB)\n",
            "\u001b[2K     \u001b[90m━━━━━━━━━━━━━━━━━━━━━━━━━━━━━━━━━━━━━━━━\u001b[0m \u001b[32m54.5/54.5 kB\u001b[0m \u001b[31m5.4 MB/s\u001b[0m eta \u001b[36m0:00:00\u001b[0m\n",
            "\u001b[?25hCollecting python-magic (from roboflow)\n",
            "  Downloading python_magic-0.4.27-py2.py3-none-any.whl (13 kB)\n",
            "Requirement already satisfied: contourpy>=1.0.1 in /usr/local/lib/python3.10/dist-packages (from matplotlib->roboflow) (1.2.0)\n",
            "Requirement already satisfied: fonttools>=4.22.0 in /usr/local/lib/python3.10/dist-packages (from matplotlib->roboflow) (4.47.0)\n",
            "Requirement already satisfied: packaging>=20.0 in /usr/local/lib/python3.10/dist-packages (from matplotlib->roboflow) (23.2)\n",
            "Requirement already satisfied: charset-normalizer<4,>=2 in /usr/local/lib/python3.10/dist-packages (from requests->roboflow) (3.3.2)\n",
            "Requirement already satisfied: scipy>=1.9.0 in /usr/local/lib/python3.10/dist-packages (from supervision->roboflow) (1.11.4)\n",
            "Installing collected packages: python-magic, python-dotenv, pyparsing, opencv-python-headless, idna, cycler, chardet, certifi, supervision, requests-toolbelt, roboflow\n",
            "  Attempting uninstall: pyparsing\n",
            "    Found existing installation: pyparsing 3.1.1\n",
            "    Uninstalling pyparsing-3.1.1:\n",
            "      Successfully uninstalled pyparsing-3.1.1\n",
            "  Attempting uninstall: opencv-python-headless\n",
            "    Found existing installation: opencv-python-headless 4.8.1.78\n",
            "    Uninstalling opencv-python-headless-4.8.1.78:\n",
            "      Successfully uninstalled opencv-python-headless-4.8.1.78\n",
            "  Attempting uninstall: idna\n",
            "    Found existing installation: idna 3.6\n",
            "    Uninstalling idna-3.6:\n",
            "      Successfully uninstalled idna-3.6\n",
            "  Attempting uninstall: cycler\n",
            "    Found existing installation: cycler 0.12.1\n",
            "    Uninstalling cycler-0.12.1:\n",
            "      Successfully uninstalled cycler-0.12.1\n",
            "  Attempting uninstall: chardet\n",
            "    Found existing installation: chardet 5.2.0\n",
            "    Uninstalling chardet-5.2.0:\n",
            "      Successfully uninstalled chardet-5.2.0\n",
            "  Attempting uninstall: certifi\n",
            "    Found existing installation: certifi 2023.11.17\n",
            "    Uninstalling certifi-2023.11.17:\n",
            "      Successfully uninstalled certifi-2023.11.17\n",
            "\u001b[31mERROR: pip's dependency resolver does not currently take into account all the packages that are installed. This behaviour is the source of the following dependency conflicts.\n",
            "lida 0.0.10 requires fastapi, which is not installed.\n",
            "lida 0.0.10 requires kaleido, which is not installed.\n",
            "lida 0.0.10 requires python-multipart, which is not installed.\n",
            "lida 0.0.10 requires uvicorn, which is not installed.\u001b[0m\u001b[31m\n",
            "\u001b[0mSuccessfully installed certifi-2023.7.22 chardet-4.0.0 cycler-0.10.0 idna-2.10 opencv-python-headless-4.8.0.74 pyparsing-2.4.7 python-dotenv-1.0.0 python-magic-0.4.27 requests-toolbelt-1.0.0 roboflow-1.1.14 supervision-0.17.1\n"
          ]
        },
        {
          "output_type": "display_data",
          "data": {
            "application/vnd.colab-display-data+json": {
              "pip_warning": {
                "packages": [
                  "certifi",
                  "cycler",
                  "pyparsing"
                ]
              }
            }
          },
          "metadata": {}
        }
      ]
    },
    {
      "cell_type": "code",
      "execution_count": 8,
      "metadata": {
        "colab": {
          "base_uri": "https://localhost:8080/"
        },
        "id": "RbN8GgZb_Nfz",
        "outputId": "d33a4fc5-dcda-418d-b439-bf26d03026aa"
      },
      "outputs": [
        {
          "output_type": "stream",
          "name": "stdout",
          "text": [
            "loading Roboflow workspace...\n",
            "loading Roboflow project...\n",
            "{'predictions': [{'x': 376, 'y': 73, 'width': 70, 'height': 92, 'confidence': 0.5527012348175049, 'class': 'logo', 'class_id': 6, 'image_path': '/content/Menu.jpg', 'prediction_type': 'ObjectDetectionModel'}, {'x': 376, 'y': 78, 'width': 72, 'height': 99, 'confidence': 0.5277633666992188, 'class': 'navbar', 'class_id': 7, 'image_path': '/content/Menu.jpg', 'prediction_type': 'ObjectDetectionModel'}, {'x': 376, 'y': 74, 'width': 70, 'height': 94, 'confidence': 0.4167807698249817, 'class': 'card', 'class_id': 0, 'image_path': '/content/Menu.jpg', 'prediction_type': 'ObjectDetectionModel'}, {'x': 217, 'y': 491, 'width': 103, 'height': 149, 'confidence': 0.401145875453949, 'class': 'card', 'class_id': 0, 'image_path': '/content/Menu.jpg', 'prediction_type': 'ObjectDetectionModel'}, {'x': 355, 'y': 494, 'width': 85, 'height': 127, 'confidence': 0.39385873079299927, 'class': 'navbar', 'class_id': 7, 'image_path': '/content/Menu.jpg', 'prediction_type': 'ObjectDetectionModel'}, {'x': 354, 'y': 496, 'width': 103, 'height': 124, 'confidence': 0.38791313767433167, 'class': 'card', 'class_id': 0, 'image_path': '/content/Menu.jpg', 'prediction_type': 'ObjectDetectionModel'}, {'x': 318, 'y': 700, 'width': 179, 'height': 190, 'confidence': 0.37476980686187744, 'class': 'hero', 'class_id': 4, 'image_path': '/content/Menu.jpg', 'prediction_type': 'ObjectDetectionModel'}, {'x': 353, 'y': 492, 'width': 75, 'height': 128, 'confidence': 0.37096837162971497, 'class': 'logo', 'class_id': 6, 'image_path': '/content/Menu.jpg', 'prediction_type': 'ObjectDetectionModel'}, {'x': 325, 'y': 708, 'width': 177, 'height': 214, 'confidence': 0.3458886742591858, 'class': 'card', 'class_id': 0, 'image_path': '/content/Menu.jpg', 'prediction_type': 'ObjectDetectionModel'}, {'x': 117, 'y': 735, 'width': 164, 'height': 381, 'confidence': 0.2765744924545288, 'class': 'hero', 'class_id': 4, 'image_path': '/content/Menu.jpg', 'prediction_type': 'ObjectDetectionModel'}, {'x': 82, 'y': 502, 'width': 115, 'height': 138, 'confidence': 0.2672351002693176, 'class': 'card', 'class_id': 0, 'image_path': '/content/Menu.jpg', 'prediction_type': 'ObjectDetectionModel'}, {'x': 121, 'y': 726, 'width': 171, 'height': 298, 'confidence': 0.26013338565826416, 'class': 'card', 'class_id': 0, 'image_path': '/content/Menu.jpg', 'prediction_type': 'ObjectDetectionModel'}, {'x': 215, 'y': 492, 'width': 94, 'height': 143, 'confidence': 0.23082908987998962, 'class': 'logo', 'class_id': 6, 'image_path': '/content/Menu.jpg', 'prediction_type': 'ObjectDetectionModel'}, {'x': 387, 'y': 886, 'width': 80, 'height': 79, 'confidence': 0.13102829456329346, 'class': 'navbar', 'class_id': 7, 'image_path': '/content/Menu.jpg', 'prediction_type': 'ObjectDetectionModel'}, {'x': 387, 'y': 882, 'width': 33, 'height': 81, 'confidence': 0.12287163734436035, 'class': 'logo', 'class_id': 6, 'image_path': '/content/Menu.jpg', 'prediction_type': 'ObjectDetectionModel'}, {'x': 59, 'y': 53, 'width': 52, 'height': 46, 'confidence': 0.12172850966453552, 'class': 'logo', 'class_id': 6, 'image_path': '/content/Menu.jpg', 'prediction_type': 'ObjectDetectionModel'}, {'x': 54, 'y': 52, 'width': 46, 'height': 62, 'confidence': 0.11862942576408386, 'class': 'card', 'class_id': 0, 'image_path': '/content/Menu.jpg', 'prediction_type': 'ObjectDetectionModel'}, {'x': 155, 'y': 196, 'width': 207, 'height': 104, 'confidence': 0.11273470520973206, 'class': 'navbar', 'class_id': 7, 'image_path': '/content/Menu.jpg', 'prediction_type': 'ObjectDetectionModel'}, {'x': 167, 'y': 289, 'width': 280, 'height': 46, 'confidence': 0.08874362707138062, 'class': 'navbar', 'class_id': 7, 'image_path': '/content/Menu.jpg', 'prediction_type': 'ObjectDetectionModel'}, {'x': 102, 'y': 394, 'width': 169, 'height': 39, 'confidence': 0.08091506361961365, 'class': 'navbar', 'class_id': 7, 'image_path': '/content/Menu.jpg', 'prediction_type': 'ObjectDetectionModel'}, {'x': 78, 'y': 213, 'width': 79, 'height': 73, 'confidence': 0.053226590156555176, 'class': 'logo', 'class_id': 6, 'image_path': '/content/Menu.jpg', 'prediction_type': 'ObjectDetectionModel'}, {'x': 144, 'y': 201, 'width': 206, 'height': 159, 'confidence': 0.04834342002868652, 'class': 'card', 'class_id': 0, 'image_path': '/content/Menu.jpg', 'prediction_type': 'ObjectDetectionModel'}, {'x': 230, 'y': 488, 'width': 216, 'height': 169, 'confidence': 0.04111984372138977, 'class': 'grid', 'class_id': 3, 'image_path': '/content/Menu.jpg', 'prediction_type': 'ObjectDetectionModel'}, {'x': 183, 'y': 188, 'width': 68, 'height': 108, 'confidence': 0.03320932388305664, 'class': 'logo', 'class_id': 6, 'image_path': '/content/Menu.jpg', 'prediction_type': 'ObjectDetectionModel'}, {'x': 82, 'y': 480, 'width': 77, 'height': 130, 'confidence': 0.019552767276763916, 'class': 'logo', 'class_id': 6, 'image_path': '/content/Menu.jpg', 'prediction_type': 'ObjectDetectionModel'}, {'x': 100, 'y': 491, 'width': 156, 'height': 147, 'confidence': 0.0193769633769989, 'class': 'navbar', 'class_id': 7, 'image_path': '/content/Menu.jpg', 'prediction_type': 'ObjectDetectionModel'}, {'x': 364, 'y': 75, 'width': 126, 'height': 150, 'confidence': 0.01766321063041687, 'class': 'hero', 'class_id': 4, 'image_path': '/content/Menu.jpg', 'prediction_type': 'ObjectDetectionModel'}, {'x': 302, 'y': 687, 'width': 188, 'height': 150, 'confidence': 0.016562193632125854, 'class': 'navbar', 'class_id': 7, 'image_path': '/content/Menu.jpg', 'prediction_type': 'ObjectDetectionModel'}, {'x': 128, 'y': 384, 'width': 107, 'height': 49, 'confidence': 0.01490822434425354, 'class': 'logo', 'class_id': 6, 'image_path': '/content/Menu.jpg', 'prediction_type': 'ObjectDetectionModel'}, {'x': 59, 'y': 43, 'width': 66, 'height': 63, 'confidence': 0.0124245285987854, 'class': 'navbar', 'class_id': 7, 'image_path': '/content/Menu.jpg', 'prediction_type': 'ObjectDetectionModel'}, {'x': 391, 'y': 894, 'width': 72, 'height': 60, 'confidence': 0.011273086071014404, 'class': 'card', 'class_id': 0, 'image_path': '/content/Menu.jpg', 'prediction_type': 'ObjectDetectionModel'}, {'x': 147, 'y': 214, 'width': 248, 'height': 176, 'confidence': 0.011063873767852783, 'class': 'grid', 'class_id': 3, 'image_path': '/content/Menu.jpg', 'prediction_type': 'ObjectDetectionModel'}], 'image': {'width': '428', 'height': '926'}}\n"
          ]
        }
      ],
      "source": [
        "from roboflow import Roboflow\n",
        "rf = Roboflow(api_key=\"WQMZHoMnY9cR5Tu9TD8Y\")\n",
        "project = rf.workspace().project(\"website-elements-segmentation\")\n",
        "model = project.version(3).model\n",
        "\n",
        "# infer on a local image\n",
        "print(model.predict(\"/content/Menu.jpg\", confidence=1, overlap=0).json())\n",
        "\n",
        "# visualize your prediction\n",
        "model.predict(\"/content/Menu.jpg\", confidence=40, overlap=30).save(\"prediction1.jpg\")\n",
        "\n",
        "# infer on an image hosted elsewhere\n",
        "# print(model.predict(\"URL_OF_YOUR_IMAGE\", hosted=True, confidence=40, overlap=30).json())"
      ]
    },
    {
      "cell_type": "code",
      "source": [],
      "metadata": {
        "id": "Hld6tUi4_P9v"
      },
      "execution_count": null,
      "outputs": []
    }
  ]
}